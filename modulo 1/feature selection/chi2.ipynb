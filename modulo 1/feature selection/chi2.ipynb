{
 "cells": [
  {
   "cell_type": "code",
   "execution_count": 4,
   "metadata": {},
   "outputs": [
    {
     "name": "stdout",
     "output_type": "stream",
     "text": [
      "Scores: [18.96296296  0.02325581  4.34841629]\n",
      "Dados das melhores preditoras: [[12 30]\n",
      " [15  6]\n",
      " [16 90]\n",
      " [ 5 20]\n",
      " [ 4  5]\n",
      " [ 2 70]]\n"
     ]
    }
   ],
   "source": [
    "from sklearn.feature_selection import SelectKBest, chi2\n",
    "\n",
    "X = [[12, 2, 30], [15, 11, 6], [16, 8, 90], [5, 3, 20], [4, 14, 5], [2, 5, 70]]\n",
    "y = [1,1,1,0,0,0]\n",
    "\n",
    "algoritmo = SelectKBest(score_func=chi2, k=2)\n",
    "dados_das_melhores_preditoras = algoritmo.fit_transform(X, y)\n",
    "\n",
    "print('Scores:', algoritmo.scores_)\n",
    "print('Dados das melhores preditoras:', dados_das_melhores_preditoras)"
   ]
  },
  {
   "cell_type": "code",
   "execution_count": 6,
   "metadata": {},
   "outputs": [
    {
     "name": "stdout",
     "output_type": "stream",
     "text": [
      "  sepal length (cm) sepal width (cm) petal length (cm) petal width (cm)\n",
      "0               5.1              3.5               1.4              0.2\n",
      "1               4.9              3.0               1.4              0.2\n",
      "2               4.7              3.2               1.3              0.2\n",
      "3               4.6              3.1               1.5              0.2\n",
      "4               5.0              3.6               1.4              0.2\n"
     ]
    }
   ],
   "source": [
    "from sklearn.datasets import load_iris\n",
    "import pandas as pd\n",
    "from sklearn.feature_selection import SelectKBest, chi2\n",
    "\n",
    "iris = load_iris()\n",
    "\n",
    "X = pd.DataFrame(iris.data, columns=[iris.feature_names])\n",
    "y = pd.Series(iris.target)\n",
    "\n",
    "algoritmo = SelectKBest(score_func=chi2, k=2)\n",
    "\n",
    "print(X.head())"
   ]
  },
  {
   "cell_type": "code",
   "execution_count": 9,
   "metadata": {},
   "outputs": [
    {
     "name": "stdout",
     "output_type": "stream",
     "text": [
      "Scores: [ 10.81782088   3.7107283  116.31261309  67.0483602 ]\n",
      "Dados das melhores preditoras: SelectKBest(k=2, score_func=<function chi2 at 0x7f529df72340>)\n"
     ]
    }
   ],
   "source": [
    "dados_das_melhores_preditoras = algoritmo.fit(X, y)\n",
    "\n",
    "print('Scores:', algoritmo.scores_)\n",
    "print('Dados das melhores preditoras:', dados_das_melhores_preditoras)"
   ]
  }
 ],
 "metadata": {
  "kernelspec": {
   "display_name": "base",
   "language": "python",
   "name": "python3"
  },
  "language_info": {
   "codemirror_mode": {
    "name": "ipython",
    "version": 3
   },
   "file_extension": ".py",
   "mimetype": "text/x-python",
   "name": "python",
   "nbconvert_exporter": "python",
   "pygments_lexer": "ipython3",
   "version": "3.11.3"
  },
  "orig_nbformat": 4
 },
 "nbformat": 4,
 "nbformat_minor": 2
}
